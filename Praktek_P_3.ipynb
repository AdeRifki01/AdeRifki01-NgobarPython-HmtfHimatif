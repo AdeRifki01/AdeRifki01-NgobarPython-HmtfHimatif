{
  "nbformat": 4,
  "nbformat_minor": 0,
  "metadata": {
    "colab": {
      "provenance": [],
      "authorship_tag": "ABX9TyN6V2yWiQe7M3MClMtDiWCB",
      "include_colab_link": true
    },
    "kernelspec": {
      "name": "python3",
      "display_name": "Python 3"
    },
    "language_info": {
      "name": "python"
    }
  },
  "cells": [
    {
      "cell_type": "markdown",
      "metadata": {
        "id": "view-in-github",
        "colab_type": "text"
      },
      "source": [
        "<a href=\"https://colab.research.google.com/github/AdeRifki01/AdeRifki01-NgobarPython-HmtfHimatif/blob/main/Praktek_P_3.ipynb\" target=\"_parent\"><img src=\"https://colab.research.google.com/assets/colab-badge.svg\" alt=\"Open In Colab\"/></a>"
      ]
    },
    {
      "cell_type": "code",
      "execution_count": null,
      "metadata": {
        "colab": {
          "base_uri": "https://localhost:8080/"
        },
        "id": "t_2_CMbqRJIV",
        "outputId": "b15c4ab3-7a94-4c95-8c20-42d83bd5d252"
      },
      "outputs": [
        {
          "output_type": "stream",
          "name": "stdout",
          "text": [
            "Hari Ini Adalah Hari Ketiga Saya Mengikuti Kegiatan Ngobar\n"
          ]
        }
      ],
      "source": [
        "sliceing_string=\"Hari Ini Adalah Hari Ketiga Saya Mengikuti Kegiatan Ngobar\"\n",
        "print(sliceing_string)\n",
        "\n"
      ]
    },
    {
      "cell_type": "code",
      "source": [
        "# Contoh slicing\n",
        "print(sliceing_string[:6])   # Mengambil karakter pertama hingga ke-4\n",
        "print(sliceing_string[-5:]) # Mengambil karakter ke-5 hingga ke-10\n",
        "print(sliceing_string[21:27]) # Mengambil karakter ke-12 hingga ke-18\n",
        "print(sliceing_string[::-1]) # Membalik seluruh string"
      ],
      "metadata": {
        "colab": {
          "base_uri": "https://localhost:8080/"
        },
        "id": "0E4Ei3MdR2ST",
        "outputId": "60989605-e90f-4d07-d37e-8df7dce98576"
      },
      "execution_count": null,
      "outputs": [
        {
          "output_type": "stream",
          "name": "stdout",
          "text": [
            "Hari I\n",
            "gobar\n",
            "Ketiga\n",
            "rabogN nataigeK itukigneM ayaS agiteK iraH haladA inI iraH\n"
          ]
        }
      ]
    },
    {
      "cell_type": "code",
      "source": [
        "# Variabel string\n",
        "kata1 = \"Ngobar\"\n",
        "kata2 = \"Python\"\n",
        "kata3 = \"HMTF dan HIMATIF\"\n",
        "\n",
        "# Concatenation menggunakan operator +\n",
        "hasil = kata1 + \" \" + kata2 + \" \" + kata3\n",
        "print(hasil)\n",
        "\n",
        "# Concatenation menggunakan f-string (format string)\n",
        "hasil_fstring = f\"{kata1} {kata2} {kata3}\"\n",
        "print(hasil_fstring)\n",
        "\n",
        "# Concatenation menggunakan method join()\n",
        "daftar_kata = [kata1, kata2, kata3]\n",
        "hasil_join = \" \".join(daftar_kata)\n",
        "print(hasil_join)"
      ],
      "metadata": {
        "colab": {
          "base_uri": "https://localhost:8080/"
        },
        "id": "fYAqy9OIVauD",
        "outputId": "919185e8-5b17-49c3-f8f8-d9f1c9c2b29c"
      },
      "execution_count": null,
      "outputs": [
        {
          "output_type": "stream",
          "name": "stdout",
          "text": [
            "Ngobar Python HMTF dan HIMATIF\n",
            "Ngobar Python HMTF dan HIMATIF\n",
            "Ngobar Python HMTF dan HIMATIF\n"
          ]
        }
      ]
    },
    {
      "cell_type": "code",
      "source": [
        "Nama_Terpanjang=\" aku adalah seorang kapten dari sebuah tim sepak bola liga 3 liga belgia\"\n",
        "print(Nama_Terpanjang)"
      ],
      "metadata": {
        "colab": {
          "base_uri": "https://localhost:8080/"
        },
        "id": "p5118iWoRspQ",
        "outputId": "5506b45e-1dd7-4b11-f6dd-9fba1668143c"
      },
      "execution_count": null,
      "outputs": [
        {
          "output_type": "stream",
          "name": "stdout",
          "text": [
            " aku adalah seorang kapten dari sebuah tim sepak bola liga 3 liga belgia\n"
          ]
        }
      ]
    },
    {
      "cell_type": "code",
      "source": [
        "def hitung_karakter(teks):\n",
        "  return len(teks)\n",
        "\n",
        "def hitung_kata(teks):\n",
        "  kata = teks.split()\n",
        "  return len(kata)\n",
        "\n",
        "# Contoh penggunaan\n",
        "jumlah_karakter = hitung_karakter(Nama_Terpanjang)\n",
        "jumlah_kata = hitung_kata(Nama_Terpanjang)\n",
        "\n",
        "print(\"Jumlah karakter:\", jumlah_karakter)\n",
        "print(\"Jumlah kata:\", jumlah_kata)"
      ],
      "metadata": {
        "colab": {
          "base_uri": "https://localhost:8080/"
        },
        "id": "2agjh1pqYeSh",
        "outputId": "01dc50e2-ac56-4b5f-c1c5-76c418980a09"
      },
      "execution_count": null,
      "outputs": [
        {
          "output_type": "stream",
          "name": "stdout",
          "text": [
            "Jumlah karakter: 72\n",
            "Jumlah kata: 13\n"
          ]
        }
      ]
    },
    {
      "cell_type": "code",
      "source": [
        "import numpy as np\n",
        "\n",
        "# 1. Buat array seperti yang ditunjukan\n",
        "arr = np.array([1, 5, 2, 9, 7, 3])\n",
        "\n",
        "# 2. menghitung nilai rata-rata (mean), nilai minimum (min), dan nilai maksimum (max) dari array tersebut.\n",
        "mean_value = np.mean(arr)\n",
        "min_value = np.min(arr)\n",
        "max_value = np.max(arr)\n",
        "\n",
        "# 3. Tampilkan hasil perhitungan\n",
        "print(\"Nilai rata-rata:\", mean_value)\n",
        "print(\"Nilai minimum:\", min_value)\n",
        "print(\"Nilai maximum:\", max_value)\n"
      ],
      "metadata": {
        "colab": {
          "base_uri": "https://localhost:8080/"
        },
        "id": "073swgB5aIct",
        "outputId": "53528e15-4517-4020-a270-ea156cbfadf4"
      },
      "execution_count": null,
      "outputs": [
        {
          "output_type": "stream",
          "name": "stdout",
          "text": [
            "Nilai rata-rata: 4.5\n",
            "Nilai minimum: 1\n",
            "Nilai maximum: 9\n"
          ]
        }
      ]
    }
  ]
}