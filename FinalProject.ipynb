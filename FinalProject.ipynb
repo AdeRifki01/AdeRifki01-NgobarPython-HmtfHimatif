{
  "nbformat": 4,
  "nbformat_minor": 0,
  "metadata": {
    "colab": {
      "provenance": [],
      "authorship_tag": "ABX9TyMHW/46KtJsrHskPL0k6xjf",
      "include_colab_link": true
    },
    "kernelspec": {
      "name": "python3",
      "display_name": "Python 3"
    },
    "language_info": {
      "name": "python"
    }
  },
  "cells": [
    {
      "cell_type": "markdown",
      "metadata": {
        "id": "view-in-github",
        "colab_type": "text"
      },
      "source": [
        "<a href=\"https://colab.research.google.com/github/AdeRifki01/AdeRifki01-NgobarPython-HmtfHimatif/blob/main/Untitled0.ipynb\" target=\"_parent\"><img src=\"https://colab.research.google.com/assets/colab-badge.svg\" alt=\"Open In Colab\"/></a>"
      ]
    },
    {
      "cell_type": "code",
      "execution_count": 2,
      "metadata": {
        "colab": {
          "base_uri": "https://localhost:8080/"
        },
        "id": "BHfN8esLoa1T",
        "outputId": "78b34930-0b44-4792-b12d-9b6c3f373b47"
      },
      "outputs": [
        {
          "name": "stdout",
          "output_type": "stream",
          "text": [
            "\n",
            "Menu:\n",
            "1. Tambah data siswa\n",
            "2. Tampilkan semua data siswa\n",
            "3. Cari siswa berdasarkan NIM\n",
            "4. Hitung rata-rata nilai\n",
            "5. Keluar\n",
            "Masukkan pilihan Anda: 1\n",
            "Masukkan nama siswa: ade\n",
            "Masukkan NIM siswa: 3420230037\n",
            "Masukkan jurusan siswa: teknik informatika\n",
            "Masukkan nilai siswa: 90\n",
            "\n",
            "Menu:\n",
            "1. Tambah data siswa\n",
            "2. Tampilkan semua data siswa\n",
            "3. Cari siswa berdasarkan NIM\n",
            "4. Hitung rata-rata nilai\n",
            "5. Keluar\n",
            "Masukkan pilihan Anda: 2\n",
            "Nama: ade, NIM: 3420230037, Jurusan: teknik informatika, Nilai: 90.0\n",
            "\n",
            "Menu:\n",
            "1. Tambah data siswa\n",
            "2. Tampilkan semua data siswa\n",
            "3. Cari siswa berdasarkan NIM\n",
            "4. Hitung rata-rata nilai\n",
            "5. Keluar\n",
            "Masukkan pilihan Anda: 2\n",
            "Nama: ade, NIM: 3420230037, Jurusan: teknik informatika, Nilai: 90.0\n",
            "\n",
            "Menu:\n",
            "1. Tambah data siswa\n",
            "2. Tampilkan semua data siswa\n",
            "3. Cari siswa berdasarkan NIM\n",
            "4. Hitung rata-rata nilai\n",
            "5. Keluar\n",
            "Masukkan pilihan Anda: 3\n",
            "Masukkan NIM siswa yang dicari: 3420230037\n",
            "Nama: ade, NIM: 3420230037, Jurusan: teknik informatika, Nilai: 90.0\n",
            "\n",
            "Menu:\n",
            "1. Tambah data siswa\n",
            "2. Tampilkan semua data siswa\n",
            "3. Cari siswa berdasarkan NIM\n",
            "4. Hitung rata-rata nilai\n",
            "5. Keluar\n",
            "Masukkan pilihan Anda: 4\n",
            "Rata-rata nilai siswa: 90.0\n",
            "\n",
            "Menu:\n",
            "1. Tambah data siswa\n",
            "2. Tampilkan semua data siswa\n",
            "3. Cari siswa berdasarkan NIM\n",
            "4. Hitung rata-rata nilai\n",
            "5. Keluar\n",
            "Masukkan pilihan Anda: 5\n"
          ]
        }
      ],
      "source": [
        "def input_data_siswa():\n",
        "  nama = input(\"Masukkan nama siswa: \")\n",
        "  nim = input(\"Masukkan NIM siswa: \")\n",
        "  jurusan = input(\"Masukkan jurusan siswa: \")\n",
        "  nilai = float(input(\"Masukkan nilai siswa: \"))\n",
        "  return {\"nama\": nama, \"nim\": nim, \"jurusan\": jurusan, \"nilai\": nilai}\n",
        "\n",
        "def tampilkan_data_siswa(data_siswa):\n",
        "  if not data_siswa:\n",
        "    print(\"Belum ada data siswa yang dimasukkan.\")\n",
        "    return\n",
        "  for siswa in data_siswa:\n",
        "    print(f\"Nama: {siswa['nama']}, NIM: {siswa['nim']}, Jurusan: {siswa['jurusan']}, Nilai: {siswa['nilai']}\")\n",
        "\n",
        "def cari_siswa(data_siswa, nim):\n",
        "  for siswa in data_siswa:\n",
        "    if siswa[\"nim\"] == nim:\n",
        "      print(f\"Nama: {siswa['nama']}, NIM: {siswa['nim']}, Jurusan: {siswa['jurusan']}, Nilai: {siswa['nilai']}\")\n",
        "      return\n",
        "  print(\"Siswa tidak ditemukan.\")\n",
        "\n",
        "def hitung_rata_rata_nilai(data_siswa):\n",
        "  if not data_siswa:\n",
        "    print(\"Belum ada data siswa yang dimasukkan.\")\n",
        "    return 0\n",
        "  total_nilai = sum(siswa['nilai'] for siswa in data_siswa)\n",
        "  return total_nilai / len(data_siswa)\n",
        "\n",
        "data_siswa = []\n",
        "\n",
        "while True:\n",
        "  print(\"\\nMenu:\")\n",
        "  print(\"1. Tambah data siswa\")\n",
        "  print(\"2. Tampilkan semua data siswa\")\n",
        "  print(\"3. Cari siswa berdasarkan NIM\")\n",
        "  print(\"4. Hitung rata-rata nilai\")\n",
        "  print(\"5. Keluar\")\n",
        "\n",
        "  pilihan = input(\"Masukkan pilihan Anda: \")\n",
        "\n",
        "  if pilihan == \"1\":\n",
        "    data_siswa.append(input_data_siswa())\n",
        "  elif pilihan == \"2\":\n",
        "    tampilkan_data_siswa(data_siswa)\n",
        "  elif pilihan == \"3\":\n",
        "    nim = input(\"Masukkan NIM siswa yang dicari: \")\n",
        "    cari_siswa(data_siswa, nim)\n",
        "  elif pilihan == \"4\":\n",
        "    rata_rata = hitung_rata_rata_nilai(data_siswa)\n",
        "    if rata_rata != 0:\n",
        "        print(f\"Rata-rata nilai siswa: {rata_rata}\")\n",
        "  elif pilihan == \"5\":\n",
        "    break\n",
        "  else:\n",
        "    print(\"Pilihan tidak valid.\")"
      ]
    }
  ]
}
